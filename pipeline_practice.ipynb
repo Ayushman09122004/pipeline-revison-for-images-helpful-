{
 "cells": [
  {
   "cell_type": "code",
   "execution_count": 136,
   "id": "e436615b-288f-4a6c-91ce-97e4167e0e7f",
   "metadata": {},
   "outputs": [],
   "source": [
    "import pandas as pd \n",
    "import numpy as np \n",
    "import tensorflow as tf "
   ]
  },
  {
   "cell_type": "code",
   "execution_count": 137,
   "id": "ed00113c-c262-4460-8b1b-4e4f5aaa7c9b",
   "metadata": {},
   "outputs": [],
   "source": [
    "dir='train\\\\*\\\\*'"
   ]
  },
  {
   "cell_type": "code",
   "execution_count": 198,
   "id": "1b4728e5-4150-4e77-982e-2cae521e320b",
   "metadata": {},
   "outputs": [
    {
     "name": "stdout",
     "output_type": "stream",
     "text": [
      "b'train\\\\fear\\\\25263.jpg'\n",
      "b'train\\\\fear\\\\3453.jpg'\n",
      "b'train\\\\happy\\\\21334.jpg'\n",
      "b'train\\\\sad\\\\34821.jpg'\n",
      "b'train\\\\fear\\\\18533.jpg'\n",
      "b'train\\\\sad\\\\23189.jpg'\n",
      "b'train\\\\surprise\\\\1399.jpg'\n",
      "b'train\\\\neutral\\\\32366.jpg'\n",
      "b'train\\\\neutral\\\\29775.jpg'\n",
      "b'train\\\\disgust\\\\2746.jpg'\n"
     ]
    }
   ],
   "source": [
    "# better calling in the emotion director project\n",
    "img_dir=tf.data.Dataset.list_files(dir,shuffle=True)\n",
    "for i in img_dir.take(10) :\n",
    "    print(i.numpy())\n",
    "# make sure to put in () in front of take and .numpy here as they are functions    "
   ]
  },
  {
   "cell_type": "code",
   "execution_count": 176,
   "id": "a07a2a28-d073-4a7e-993d-0cfbba4867ca",
   "metadata": {},
   "outputs": [],
   "source": [
    "label=['angry','happy','neutral','sad','surprise','fear','disgust']"
   ]
  },
  {
   "cell_type": "code",
   "execution_count": 177,
   "id": "ee170b4d-f9fb-4e8d-8c04-4e453c3aacc0",
   "metadata": {},
   "outputs": [],
   "source": [
    "count=int(.8*len(img_dir))\n",
    "train=img_dir.take(count)\n",
    "# we use skip here to make test\n",
    "test=img_dir.skip(count)"
   ]
  },
  {
   "cell_type": "code",
   "execution_count": 178,
   "id": "16a7ad65-0277-439a-a3ad-cb54cb894cc2",
   "metadata": {},
   "outputs": [
    {
     "data": {
      "text/plain": [
       "5765"
      ]
     },
     "execution_count": 178,
     "metadata": {},
     "output_type": "execute_result"
    }
   ],
   "source": [
    "len(test)"
   ]
  },
  {
   "cell_type": "code",
   "execution_count": 179,
   "id": "d4c183e0-fed7-4b6e-a9a9-fceab13a4205",
   "metadata": {},
   "outputs": [
    {
     "data": {
      "text/plain": [
       "['image', 'aa', 'bb']"
      ]
     },
     "execution_count": 179,
     "metadata": {},
     "output_type": "execute_result"
    }
   ],
   "source": [
    "#for understanding \n",
    "s='image\\\\aa\\\\bb'\n",
    "s.split('\\\\')\n",
    "# we use this to define label but its a tensor unlike a string"
   ]
  },
  {
   "cell_type": "code",
   "execution_count": 180,
   "id": "b96f75ba-72af-442c-886e-8c6998dd2854",
   "metadata": {},
   "outputs": [],
   "source": [
    "def get_label(path):\n",
    "    return (tf.strings.split(i,\"\\\\\")[-2])"
   ]
  },
  {
   "cell_type": "code",
   "execution_count": 181,
   "id": "644725e8-0f09-4bdf-8003-f9b3f29e8894",
   "metadata": {},
   "outputs": [],
   "source": [
    "def process_image(path):\n",
    "    label=get_label(path)\n",
    "    img=tf.io.read_file(path)\n",
    "    img=tf.image.decode_jpeg(img)\n",
    "    return img,label"
   ]
  },
  {
   "cell_type": "code",
   "execution_count": 182,
   "id": "39a94039-cd77-4c45-b898-4535c791167e",
   "metadata": {},
   "outputs": [
    {
     "name": "stdout",
     "output_type": "stream",
     "text": [
      "tf.Tensor(b'neutral', shape=(), dtype=string)\n"
     ]
    }
   ],
   "source": [
    "# we use map to apply function on it \n",
    "train_data=train.map(process_image)\n",
    "for im,label in train_data.take(1):\n",
    "    print(label)\n",
    "    "
   ]
  },
  {
   "cell_type": "code",
   "execution_count": 189,
   "id": "182851e1-38ff-4d0f-b8ef-1e3f22f32990",
   "metadata": {},
   "outputs": [],
   "source": [
    "# we create our scale function to scale the image \n",
    "def scale(img,label):\n",
    "    return img/255,label\n",
    "    "
   ]
  },
  {
   "cell_type": "code",
   "execution_count": 190,
   "id": "6c1030ef-0647-46ab-a76e-05c1540bd077",
   "metadata": {},
   "outputs": [],
   "source": [
    "train=train_data.map(scale)"
   ]
  },
  {
   "cell_type": "code",
   "execution_count": 195,
   "id": "112b66dd-2cb9-4bbc-8f5d-24347e17cb26",
   "metadata": {},
   "outputs": [
    {
     "name": "stdout",
     "output_type": "stream",
     "text": [
      "tf.Tensor(\n",
      "[[[1.        ]\n",
      "  [1.        ]\n",
      "  [0.972549  ]\n",
      "  ...\n",
      "  [0.827451  ]\n",
      "  [0.81960785]\n",
      "  [0.87058824]]\n",
      "\n",
      " [[0.9843137 ]\n",
      "  [1.        ]\n",
      "  [0.972549  ]\n",
      "  ...\n",
      "  [0.84313726]\n",
      "  [0.8392157 ]\n",
      "  [0.85490197]]\n",
      "\n",
      " [[0.96862745]\n",
      "  [0.9882353 ]\n",
      "  [0.98039216]\n",
      "  ...\n",
      "  [0.8235294 ]\n",
      "  [0.8666667 ]\n",
      "  [0.84705883]]\n",
      "\n",
      " ...\n",
      "\n",
      " [[0.99607843]\n",
      "  [0.99607843]\n",
      "  [0.99607843]\n",
      "  ...\n",
      "  [0.72156864]\n",
      "  [0.65882355]\n",
      "  [0.627451  ]]\n",
      "\n",
      " [[0.99607843]\n",
      "  [0.99607843]\n",
      "  [0.99607843]\n",
      "  ...\n",
      "  [0.6627451 ]\n",
      "  [0.67058825]\n",
      "  [0.654902  ]]\n",
      "\n",
      " [[1.        ]\n",
      "  [1.        ]\n",
      "  [0.99607843]\n",
      "  ...\n",
      "  [0.7294118 ]\n",
      "  [0.7137255 ]\n",
      "  [0.65882355]]], shape=(48, 48, 1), dtype=float32)\n"
     ]
    }
   ],
   "source": [
    "for im,label in train.take(1):\n",
    "    print(im)"
   ]
  },
  {
   "cell_type": "code",
   "execution_count": null,
   "id": "07c7d097-0a88-4eed-bf3a-f7c01bfc583d",
   "metadata": {},
   "outputs": [],
   "source": [
    "Perform all of the above operations in one shot"
   ]
  },
  {
   "cell_type": "code",
   "execution_count": 197,
   "id": "0ed84d1f-46a2-4031-9f16-6ee50293ba3f",
   "metadata": {},
   "outputs": [
    {
     "name": "stdout",
     "output_type": "stream",
     "text": [
      "[1512 2232]\n",
      "[2304 2448]\n",
      "[2232 1584]\n"
     ]
    }
   ],
   "source": [
    "daily_sales_numbers = [21, 22, -108, 31, -1, 32, 34,31]\n",
    "\n",
    "tf_dataset = tf.data.Dataset.from_tensor_slices(daily_sales_numbers)\n",
    "\n",
    "tf_dataset = tf_dataset.filter(lambda x: x>0).map(lambda y: y*72).shuffle(2).batch(2)\n",
    "for sales in tf_dataset.as_numpy_iterator():\n",
    "    print(sales)"
   ]
  },
  {
   "cell_type": "code",
   "execution_count": null,
   "id": "8b020055-e6b6-46f1-81e4-d3714f389678",
   "metadata": {},
   "outputs": [],
   "source": []
  }
 ],
 "metadata": {
  "kernelspec": {
   "display_name": "Python 3 (ipykernel)",
   "language": "python",
   "name": "python3"
  },
  "language_info": {
   "codemirror_mode": {
    "name": "ipython",
    "version": 3
   },
   "file_extension": ".py",
   "mimetype": "text/x-python",
   "name": "python",
   "nbconvert_exporter": "python",
   "pygments_lexer": "ipython3",
   "version": "3.11.7"
  }
 },
 "nbformat": 4,
 "nbformat_minor": 5
}
